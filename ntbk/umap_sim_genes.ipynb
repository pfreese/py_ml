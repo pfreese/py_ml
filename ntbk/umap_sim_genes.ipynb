{
 "cells": [
  {
   "cell_type": "code",
   "execution_count": 98,
   "metadata": {},
   "outputs": [],
   "source": [
    "import numpy as np\n",
    "from sklearn.datasets import load_iris, load_digits\n",
    "from sklearn.model_selection import train_test_split, KFold\n",
    "from sklearn.ensemble import RandomForestClassifier\n",
    "import matplotlib.pyplot as plt\n",
    "import seaborn as sns\n",
    "import pandas as pd\n",
    "import umap\n",
    "%matplotlib inline"
   ]
  },
  {
   "cell_type": "code",
   "execution_count": null,
   "metadata": {},
   "outputs": [],
   "source": []
  },
  {
   "cell_type": "code",
   "execution_count": 2,
   "metadata": {},
   "outputs": [],
   "source": [
    "sns.set(style='white', context='notebook', rc={'figure.figsize':(14,10)})"
   ]
  },
  {
   "cell_type": "code",
   "execution_count": 3,
   "metadata": {},
   "outputs": [],
   "source": [
    "sim_genes_f = \"/Users/pfreese/Downloads/sim_DE_genes.tsv\""
   ]
  },
  {
   "cell_type": "code",
   "execution_count": 9,
   "metadata": {},
   "outputs": [],
   "source": [
    "# Load the table with a header row, and set the index_col\n",
    "genes_df = pd.read_csv(sim_genes_f, sep='\\t', header = 0, index_col = 0)"
   ]
  },
  {
   "cell_type": "code",
   "execution_count": 14,
   "metadata": {},
   "outputs": [
    {
     "data": {
      "text/html": [
       "<div>\n",
       "<style scoped>\n",
       "    .dataframe tbody tr th:only-of-type {\n",
       "        vertical-align: middle;\n",
       "    }\n",
       "\n",
       "    .dataframe tbody tr th {\n",
       "        vertical-align: top;\n",
       "    }\n",
       "\n",
       "    .dataframe thead th {\n",
       "        text-align: right;\n",
       "    }\n",
       "</style>\n",
       "<table border=\"1\" class=\"dataframe\">\n",
       "  <thead>\n",
       "    <tr style=\"text-align: right;\">\n",
       "      <th></th>\n",
       "      <th>u1</th>\n",
       "      <th>u2</th>\n",
       "      <th>u3</th>\n",
       "      <th>u4</th>\n",
       "      <th>u5</th>\n",
       "      <th>u6</th>\n",
       "      <th>u7</th>\n",
       "      <th>u8</th>\n",
       "      <th>u9</th>\n",
       "      <th>u10</th>\n",
       "      <th>...</th>\n",
       "      <th>n991</th>\n",
       "      <th>n992</th>\n",
       "      <th>n993</th>\n",
       "      <th>n994</th>\n",
       "      <th>n995</th>\n",
       "      <th>n996</th>\n",
       "      <th>n997</th>\n",
       "      <th>n998</th>\n",
       "      <th>n999</th>\n",
       "      <th>n1000</th>\n",
       "    </tr>\n",
       "    <tr>\n",
       "      <th>sample</th>\n",
       "      <th></th>\n",
       "      <th></th>\n",
       "      <th></th>\n",
       "      <th></th>\n",
       "      <th></th>\n",
       "      <th></th>\n",
       "      <th></th>\n",
       "      <th></th>\n",
       "      <th></th>\n",
       "      <th></th>\n",
       "      <th></th>\n",
       "      <th></th>\n",
       "      <th></th>\n",
       "      <th></th>\n",
       "      <th></th>\n",
       "      <th></th>\n",
       "      <th></th>\n",
       "      <th></th>\n",
       "      <th></th>\n",
       "      <th></th>\n",
       "      <th></th>\n",
       "    </tr>\n",
       "  </thead>\n",
       "  <tbody>\n",
       "    <tr>\n",
       "      <th>ref_samp_0</th>\n",
       "      <td>4.2722</td>\n",
       "      <td>9.0641</td>\n",
       "      <td>1.0033</td>\n",
       "      <td>2.1779</td>\n",
       "      <td>6.5201</td>\n",
       "      <td>1.1924</td>\n",
       "      <td>8.2963</td>\n",
       "      <td>5.4176</td>\n",
       "      <td>3.2438</td>\n",
       "      <td>6.2344</td>\n",
       "      <td>...</td>\n",
       "      <td>6.0767</td>\n",
       "      <td>9.0379</td>\n",
       "      <td>2.6671</td>\n",
       "      <td>0.5288</td>\n",
       "      <td>0.1436</td>\n",
       "      <td>10.0031</td>\n",
       "      <td>2.0119</td>\n",
       "      <td>5.6913</td>\n",
       "      <td>3.8079</td>\n",
       "      <td>1.9150</td>\n",
       "    </tr>\n",
       "    <tr>\n",
       "      <th>ref_samp_1</th>\n",
       "      <td>4.5031</td>\n",
       "      <td>9.2417</td>\n",
       "      <td>1.6519</td>\n",
       "      <td>2.2867</td>\n",
       "      <td>14.8587</td>\n",
       "      <td>0.9970</td>\n",
       "      <td>4.3195</td>\n",
       "      <td>4.7348</td>\n",
       "      <td>3.1930</td>\n",
       "      <td>6.5898</td>\n",
       "      <td>...</td>\n",
       "      <td>5.1855</td>\n",
       "      <td>8.0424</td>\n",
       "      <td>2.4842</td>\n",
       "      <td>0.6801</td>\n",
       "      <td>0.1652</td>\n",
       "      <td>9.9749</td>\n",
       "      <td>2.6513</td>\n",
       "      <td>5.2720</td>\n",
       "      <td>3.8037</td>\n",
       "      <td>1.5226</td>\n",
       "    </tr>\n",
       "    <tr>\n",
       "      <th>ref_samp_2</th>\n",
       "      <td>3.4212</td>\n",
       "      <td>6.8712</td>\n",
       "      <td>1.6541</td>\n",
       "      <td>1.9125</td>\n",
       "      <td>10.3443</td>\n",
       "      <td>1.3667</td>\n",
       "      <td>7.5857</td>\n",
       "      <td>6.6810</td>\n",
       "      <td>4.2347</td>\n",
       "      <td>9.8281</td>\n",
       "      <td>...</td>\n",
       "      <td>6.2918</td>\n",
       "      <td>8.2399</td>\n",
       "      <td>3.0770</td>\n",
       "      <td>0.7235</td>\n",
       "      <td>0.1631</td>\n",
       "      <td>10.5248</td>\n",
       "      <td>4.4565</td>\n",
       "      <td>5.7343</td>\n",
       "      <td>2.6152</td>\n",
       "      <td>1.8011</td>\n",
       "    </tr>\n",
       "    <tr>\n",
       "      <th>ref_samp_3</th>\n",
       "      <td>4.5443</td>\n",
       "      <td>8.1563</td>\n",
       "      <td>1.5727</td>\n",
       "      <td>1.5599</td>\n",
       "      <td>13.7435</td>\n",
       "      <td>1.2203</td>\n",
       "      <td>4.3833</td>\n",
       "      <td>6.6623</td>\n",
       "      <td>2.6808</td>\n",
       "      <td>10.1065</td>\n",
       "      <td>...</td>\n",
       "      <td>5.7169</td>\n",
       "      <td>5.9457</td>\n",
       "      <td>1.8148</td>\n",
       "      <td>0.6039</td>\n",
       "      <td>0.2015</td>\n",
       "      <td>9.4529</td>\n",
       "      <td>3.9126</td>\n",
       "      <td>7.0842</td>\n",
       "      <td>3.4693</td>\n",
       "      <td>1.8698</td>\n",
       "    </tr>\n",
       "    <tr>\n",
       "      <th>ref_samp_4</th>\n",
       "      <td>2.5865</td>\n",
       "      <td>8.2803</td>\n",
       "      <td>1.0101</td>\n",
       "      <td>2.1440</td>\n",
       "      <td>9.7851</td>\n",
       "      <td>1.3984</td>\n",
       "      <td>3.8896</td>\n",
       "      <td>3.6343</td>\n",
       "      <td>3.4970</td>\n",
       "      <td>6.3656</td>\n",
       "      <td>...</td>\n",
       "      <td>4.2027</td>\n",
       "      <td>8.1397</td>\n",
       "      <td>2.7161</td>\n",
       "      <td>0.5834</td>\n",
       "      <td>0.1533</td>\n",
       "      <td>10.2936</td>\n",
       "      <td>3.9827</td>\n",
       "      <td>5.3672</td>\n",
       "      <td>3.2267</td>\n",
       "      <td>1.8499</td>\n",
       "    </tr>\n",
       "  </tbody>\n",
       "</table>\n",
       "<p>5 rows × 1200 columns</p>\n",
       "</div>"
      ],
      "text/plain": [
       "                u1      u2      u3      u4       u5      u6      u7      u8  \\\n",
       "sample                                                                        \n",
       "ref_samp_0  4.2722  9.0641  1.0033  2.1779   6.5201  1.1924  8.2963  5.4176   \n",
       "ref_samp_1  4.5031  9.2417  1.6519  2.2867  14.8587  0.9970  4.3195  4.7348   \n",
       "ref_samp_2  3.4212  6.8712  1.6541  1.9125  10.3443  1.3667  7.5857  6.6810   \n",
       "ref_samp_3  4.5443  8.1563  1.5727  1.5599  13.7435  1.2203  4.3833  6.6623   \n",
       "ref_samp_4  2.5865  8.2803  1.0101  2.1440   9.7851  1.3984  3.8896  3.6343   \n",
       "\n",
       "                u9      u10  ...    n991    n992    n993    n994    n995  \\\n",
       "sample                       ...                                           \n",
       "ref_samp_0  3.2438   6.2344  ...  6.0767  9.0379  2.6671  0.5288  0.1436   \n",
       "ref_samp_1  3.1930   6.5898  ...  5.1855  8.0424  2.4842  0.6801  0.1652   \n",
       "ref_samp_2  4.2347   9.8281  ...  6.2918  8.2399  3.0770  0.7235  0.1631   \n",
       "ref_samp_3  2.6808  10.1065  ...  5.7169  5.9457  1.8148  0.6039  0.2015   \n",
       "ref_samp_4  3.4970   6.3656  ...  4.2027  8.1397  2.7161  0.5834  0.1533   \n",
       "\n",
       "               n996    n997    n998    n999   n1000  \n",
       "sample                                               \n",
       "ref_samp_0  10.0031  2.0119  5.6913  3.8079  1.9150  \n",
       "ref_samp_1   9.9749  2.6513  5.2720  3.8037  1.5226  \n",
       "ref_samp_2  10.5248  4.4565  5.7343  2.6152  1.8011  \n",
       "ref_samp_3   9.4529  3.9126  7.0842  3.4693  1.8698  \n",
       "ref_samp_4  10.2936  3.9827  5.3672  3.2267  1.8499  \n",
       "\n",
       "[5 rows x 1200 columns]"
      ]
     },
     "execution_count": 14,
     "metadata": {},
     "output_type": "execute_result"
    }
   ],
   "source": [
    "genes_df.head()"
   ]
  },
  {
   "cell_type": "code",
   "execution_count": 19,
   "metadata": {},
   "outputs": [
    {
     "data": {
      "text/plain": [
       "(200, 1200)"
      ]
     },
     "execution_count": 19,
     "metadata": {},
     "output_type": "execute_result"
    }
   ],
   "source": [
    "# Print out the shape, containing (no. of samples) vs. (no of genes)\n",
    "genes_df.shape"
   ]
  },
  {
   "cell_type": "code",
   "execution_count": 24,
   "metadata": {},
   "outputs": [
    {
     "data": {
      "text/plain": [
       "Index(['ref_samp_0', 'ref_samp_1', 'ref_samp_2', 'ref_samp_3', 'ref_samp_4',\n",
       "       'ref_samp_5', 'ref_samp_6', 'ref_samp_7', 'ref_samp_8', 'ref_samp_9',\n",
       "       ...\n",
       "       'changed_samp_90', 'changed_samp_91', 'changed_samp_92',\n",
       "       'changed_samp_93', 'changed_samp_94', 'changed_samp_95',\n",
       "       'changed_samp_96', 'changed_samp_97', 'changed_samp_98',\n",
       "       'changed_samp_99'],\n",
       "      dtype='object', name='sample', length=200)"
      ]
     },
     "execution_count": 24,
     "metadata": {},
     "output_type": "execute_result"
    }
   ],
   "source": [
    "genes_df.index"
   ]
  },
  {
   "cell_type": "code",
   "execution_count": 26,
   "metadata": {},
   "outputs": [],
   "source": [
    "def get_ref_or_changed(id):\n",
    "    ref_or_changed = id.split(\"_\")[0]\n",
    "    assert(ref_or_changed in ['ref', 'changed'])\n",
    "    return ref_or_changed"
   ]
  },
  {
   "cell_type": "code",
   "execution_count": 105,
   "metadata": {},
   "outputs": [],
   "source": []
  },
  {
   "cell_type": "code",
   "execution_count": 65,
   "metadata": {},
   "outputs": [
    {
     "data": {
      "text/plain": [
       "array([100, 101, 102, 103, 104, 105, 106, 107, 108, 109, 110, 111, 112,\n",
       "       113, 114, 115, 116, 117, 118, 119, 120, 121, 122, 123, 124, 125,\n",
       "       126, 127, 128, 129, 130, 131, 132, 133, 134, 135, 136, 137, 138,\n",
       "       139, 140, 141, 142, 143, 144, 145, 146, 147, 148, 149, 150, 151,\n",
       "       152, 153, 154, 155, 156, 157, 158, 159, 160, 161, 162, 163, 164,\n",
       "       165, 166, 167, 168, 169, 170, 171, 172, 173, 174, 175, 176, 177,\n",
       "       178, 179, 180, 181, 182, 183, 184, 185, 186, 187, 188, 189, 190,\n",
       "       191, 192, 193, 194, 195, 196, 197, 198, 199])"
      ]
     },
     "execution_count": 65,
     "metadata": {},
     "output_type": "execute_result"
    }
   ],
   "source": []
  },
  {
   "cell_type": "code",
   "execution_count": 33,
   "metadata": {},
   "outputs": [],
   "source": [
    "sample_categories = list(map(get_ref_or_changed, genes_df.index))"
   ]
  },
  {
   "cell_type": "code",
   "execution_count": 35,
   "metadata": {},
   "outputs": [],
   "source": [
    "# Make a map of sample category -> index (ref = 0, changed = 1)\n",
    "cat_to_idx = {\"ref\": 0, \"changed\": 1}"
   ]
  },
  {
   "cell_type": "code",
   "execution_count": 114,
   "metadata": {},
   "outputs": [
    {
     "data": {
      "text/plain": [
       "1    0\n",
       "2    0\n",
       "3    0\n",
       "4    0\n",
       "dtype: int64"
      ]
     },
     "execution_count": 114,
     "metadata": {},
     "output_type": "execute_result"
    }
   ],
   "source": [
    "# Convert each sample row to 0 (\"ref\") or 1 (\"changed\") for training/evaluation\n",
    "ys = pd.Series([cat_to_idx[get_ref_or_changed(samp_id)] for samp_id in genes_df.index])\n",
    "ys[1:5]"
   ]
  },
  {
   "cell_type": "code",
   "execution_count": 17,
   "metadata": {},
   "outputs": [],
   "source": [
    "# Instantiate a UMAP object\n",
    "reducer = umap.UMAP()"
   ]
  },
  {
   "cell_type": "code",
   "execution_count": 18,
   "metadata": {},
   "outputs": [
    {
     "name": "stderr",
     "output_type": "stream",
     "text": [
      "/Users/pfreese/dl/venv/lib/python3.6/site-packages/umap/spectral.py:229: UserWarning: Embedding a total of 2 separate connected components using meta-embedding (experimental)\n",
      "  n_components\n"
     ]
    },
    {
     "data": {
      "text/plain": [
       "(200, 2)"
      ]
     },
     "execution_count": 18,
     "metadata": {},
     "output_type": "execute_result"
    }
   ],
   "source": [
    "# Train the reducer\n",
    "embedding = reducer.fit_transform(genes_df)\n",
    "embedding.shape"
   ]
  },
  {
   "cell_type": "code",
   "execution_count": 79,
   "metadata": {},
   "outputs": [
    {
     "data": {
      "image/png": "[encoded data removed]",
      "text/plain": [
       "<Figure size 432x288 with 1 Axes>"
      ]
     },
     "metadata": {
      "needs_background": "light"
     },
     "output_type": "display_data"
    }
   ],
   "source": [
    "cat_handles = []\n",
    "cat_labels = []\n",
    "for cat, _ in cat_to_idx.items():\n",
    "    sample_rows = np.where(genes_df.index.str.contains(cat))[0]\n",
    "    hand = plt.scatter(embedding[sample_rows, 0],\n",
    "                embedding[sample_rows, 1],\n",
    "                c = [sns.color_palette()[cat_to_idx[cat]] for _ in sample_rows],\n",
    "                alpha = 0.2)\n",
    "    # Add this handle & its lable\n",
    "    cat_handles.append(hand)\n",
    "    cat_labels.append(cat)\n",
    "    \n",
    "plt.gca().set_aspect('equal', 'datalim')\n",
    "plt.gca().legend(cat_handles, cat_labels, fontsize = 14)\n",
    "plt.xlabel(\"UMAP Dim. 1\", fontsize = 18)\n",
    "plt.ylabel(\"UMAP Dim. 2\", fontsize = 18)\n",
    "plt.title('UMAP projection of the simulated gene expression dataset', fontsize = 24)\n",
    "plt.tick_params(axis='both', which='major', labelsize=14)"
   ]
  },
  {
   "cell_type": "code",
   "execution_count": 94,
   "metadata": {},
   "outputs": [
    {
     "data": {
      "text/plain": [
       "10"
      ]
     },
     "execution_count": 94,
     "metadata": {},
     "output_type": "execute_result"
    }
   ],
   "source": [
    "kf = KFold(n_splits = 10, shuffle = True)\n",
    "kf.get_n_splits(genes_df)"
   ]
  },
  {
   "cell_type": "code",
   "execution_count": 99,
   "metadata": {},
   "outputs": [],
   "source": [
    "clf = RandomForestClassifier(n_estimators=100, max_depth=2, random_state=0)"
   ]
  },
  {
   "cell_type": "code",
   "execution_count": 129,
   "metadata": {},
   "outputs": [
    {
     "name": "stdout",
     "output_type": "stream",
     "text": [
      "TRAIN: [  0   1   2   3   4   5   6   7   8   9  10  11  12  13  14  15  16  17\n",
      "  18  19  20  21  22  23  24  25  26  28  29  30  31  32  33  34  35  36\n",
      "  37  38  39  40  41  42  43  44  45  46  47  48  50  51  52  53  54  55\n",
      "  57  58  59  60  62  63  64  65  66  67  68  69  70  71  72  73  74  75\n",
      "  76  77  78  79  80  81  82  83  84  85  86  87  88  89  92  93  94  95\n",
      "  96  97  98  99 100 101 102 103 104 105 106 107 108 109 110 111 112 113\n",
      " 114 115 116 117 118 119 120 121 122 124 126 128 129 130 131 132 134 135\n",
      " 136 137 139 142 143 145 146 147 149 150 151 152 153 154 155 157 158 159\n",
      " 160 161 162 164 165 166 167 168 169 170 171 172 174 175 176 177 178 179\n",
      " 180 181 182 183 184 185 187 188 189 191 192 193 194 195 196 197 198 199] TEST: [ 27  49  56  61  90  91 123 125 127 133 138 140 141 144 148 156 163 173\n",
      " 186 190]\n"
     ]
    }
   ],
   "source": [
    "# For each of the 10 folds\n",
    "for train_index, test_index in kf.split(genes_df):\n",
    "    print(\"TRAIN:\", train_index, \"TEST:\", test_index)\n",
    "    X_train, X_test = genes_df.iloc[train_index], genes_df.iloc[test_index]\n",
    "    y_train, y_test = ys.iloc[train_index], ys.iloc[test_index]\n",
    "    \n",
    "    clf.fit(X_train, y_train)\n",
    "    # Get the test prediction probabilities and categories.\n",
    "    # Probabilities are like:\n",
    "    #   array([[9.99850746e-01, 1.49253731e-04],\n",
    "    #          [9.20000000e-01, 8.00000000e-02],\n",
    "    # preds are like:\n",
    "    #     array([0, 0, 0, 0, 0, 0, 0, 0, 1, 1, 1\n",
    "    # score is a float from 0 to 1.\n",
    "    pred_probs = clf.predict_proba(X_test)\n",
    "    preds = clf.predict(X_test)\n",
    "    score = clf.score(X_test, y_test)\n",
    "    \n",
    "    # My own additional scoring metrics\n",
    "    num_incorrect = sum(abs(preds - y_test))\n",
    "    incorrect_preds = preds != y_test\n",
    "    break"
   ]
  },
  {
   "cell_type": "code",
   "execution_count": 128,
   "metadata": {},
   "outputs": [
    {
     "data": {
      "text/plain": [
       "18     False\n",
       "45     False\n",
       "56     False\n",
       "64     False\n",
       "69     False\n",
       "71     False\n",
       "80     False\n",
       "86     False\n",
       "100    False\n",
       "106    False\n",
       "109    False\n",
       "119    False\n",
       "137    False\n",
       "138    False\n",
       "139    False\n",
       "161    False\n",
       "166    False\n",
       "172    False\n",
       "181    False\n",
       "197    False\n",
       "dtype: bool"
      ]
     },
     "execution_count": 128,
     "metadata": {},
     "output_type": "execute_result"
    }
   ],
   "source": [
    "preds != y_test"
   ]
  }
 ],
 "metadata": {
  "kernelspec": {
   "display_name": "Python 3",
   "language": "python",
   "name": "python3"
  },
  "language_info": {
   "codemirror_mode": {
    "name": "ipython",
    "version": 3
   },
   "file_extension": ".py",
   "mimetype": "text/x-python",
   "name": "python",
   "nbconvert_exporter": "python",
   "pygments_lexer": "ipython3",
   "version": "3.6.4"
  }
 },
 "nbformat": 4,
 "nbformat_minor": 2
}
